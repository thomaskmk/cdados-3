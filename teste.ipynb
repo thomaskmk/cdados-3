{
 "cells": [
  {
   "cell_type": "markdown",
   "metadata": {},
   "source": [
    "# Projeto 3 - Predição de varíavel quantitativa"
   ]
  },
  {
   "cell_type": "markdown",
   "metadata": {},
   "source": [
    "----\n",
    "## Introdução"
   ]
  },
  {
   "cell_type": "markdown",
   "metadata": {},
   "source": [
    "Quando se trata de viagens, seja a passeio ou a trabalho, um cronograma pré-determinado é essencial para a organização da viagem. Entretanto, por mais que um cronograma seja montado pensando nas mais diversas variáveis, o atraso de voos nos aeroportos tende a pegar os viajantes de surpresa, sendo um dos mais frequentes fatores de alteração no cronograma dos viajantes. \n",
    "\n",
    "Pensando nisso, o objetivo deste projeto é criar um **modelo de predição de atrasos de voos domésticos nos EUA**, utilizando um dataset que contém informações de todos os voos domésticos ocorridos em 2023. Visando aumentar o desempenho do modelo, escolhemos prever o atraso dos voos apenas do **aeroporto de Atlanta**, de onde sairam a maior quantidade de voos em 2023. A variável principal (target) que será predita é o atraso total de voos em minutos..\n",
    "\n",
    "O modelo será desenvolvido com o intuito de fornecer insights e previsões precisas sobre os atrasos de voos, auxiliando na tomada de decisões e no planejamento de viagens aéreas. Para isso, o projeto foi dividido em algumas etapas, sendo elas:\n",
    "1) Importação das bibliotecas necessárias\n",
    "2) Leitura do dataset\n",
    "3) Limpeza dos dados\n",
    "4) Análise exploratória dos dados\n",
    "5) Divisão dos dados em treino e teste\n",
    "6) Construção do modelo de predição\n",
    "7) Avaliação do modelo\n",
    "8) Conclusão\n",
    "9) Referências\n"
   ]
  },
  {
   "cell_type": "markdown",
   "metadata": {},
   "source": [
    "----\n",
    "## Minerando os dados"
   ]
  },
  {
   "cell_type": "markdown",
   "metadata": {},
   "source": [
    "Os dados utilizados neste projeto foram obtidos na plataforma Kaggle e contém informações sobre todos os voos domésticos ocorridos nos EUA em 2023. O dataset é composto por 6.743.404 linhas e 24 colunas, sendo que cada linha representa um voo e cada coluna representa uma variável.\n",
    "\n",
    "Devido ao tamanho do dataset, foi necessário realizar um pré-processamento dos dados para que fosse possível realizar a análise exploratória e a construção do modelo de predição. O pré-processamento consistiu nas seguintes etapas:\n",
    "\n",
    "1) Filtragem do dataset para conter apenas os voos que partiram de Atlanta;\n",
    "2) Análise das variáveis e remoção das colunas que não seriam utilizadas no modelo, sendo elas:\n",
    "    1) Descrição do avião (detalhes técnicos do modelo dos aviões);\n",
    "    2) Nome das cidades de partida e chegada (código do aeroporto é mais relevante e o ponto de partida sempre será o aeroporto de Atlanta);\n",
    "    3) Duração do voo (já existe uma coluna de classficação da duração do voo, a qual julgamos mais relevante);\n",
    "3) Alterar a variável da data completa dos voos para apenas o mês dos voos, facilitando a generalização do modelo.  \n",
    "\n",
    "Ao final do processo de mineração dos dados, a base de dados ficou composta por 332.935 linhas e 16 colunas."
   ]
  },
  {
   "cell_type": "markdown",
   "metadata": {},
   "source": [
    "----\n",
    "## Características do dataset"
   ]
  },
  {
   "cell_type": "markdown",
   "metadata": {},
   "source": [
    "Abaixo incluimos uma breve descrição das variáveis presentes no dataset:\n",
    "| Atributos | Descrição | Possíveis Valores |\n",
    "|------|------|------|\n",
    "|   Month  | Mês em que os voos foram realizados | 1 a 12 |\n",
    "|   Day_Of_Week  | Dia da semana em que os voos foram realizados | 1 a 7 |\n",
    "|   Airline  | Nome da companhia aérea | Southwest Airlines Co., Delta Air Lines Inc, American Airlines Inc., United Air Lines Inc., Skywest Airlines Inc., Republic Airways, JetBlue Airways, Spirit Air Lines, Alaska Airlines Inc., American Eagle Airlines Inc., Endeavor Air, PSA Airlines, Frontier Airlines Inc., Allegiant Air, Hawaiian Airlines Inc.\n",
    "|   DepTime_label  | Horário de partida dos voos | Morning, Afternon, Evening, Night |\n",
    "|   Dep_Delay  | Atraso na partida dos voos | Quantidade de minutos | \n",
    "|   Dep_Delay_Tag  | Tag de atraso na partida dos voos | 0: Sem atraso ou atrasos menores que 5 minutos; 1: Atrasos maiores que 5 minutos |\n",
    "|   Dep_Delay_Type  | Tipo de atraso na partida dos voos | Low <5min, Medium >15min, Hight >60min |\n",
    "|   Arr_Airport  | Aeroporto de chegada dos voos | Código do aeroporto |\n",
    "|   Arr_Delay  | Atraso na chegada dos voos | Quantidade de minutos |\n",
    "|   Arr_Delay_Type  | Tipo de atraso na chegada dos voos | Low <5min, Medium >15min, Hight >60min |\n",
    "|   Distance_type  | Tipo de distância do voo | Short Haul >1500Mi, Medium Haul <3000Mi, Long Haul <6000Mi |\n",
    "|   Delay_Carrier  | Atraso causado pela companhia aérea | Quantidade de minutos |\n",
    "|   Delay_Weather  | Atraso causado por condições climáticas | Quantidade de minutos |\n",
    "|   Delay_NAS  | Atraso causado por problemas no sistema de controle de tráfego aéreo | Quantidade de minutos |\n",
    "|   Delay_Security  | Atraso causado por problemas de segurança | Quantidade de minutos |\n",
    "|   Delay_LastAircraft  | Atraso causado por problemas no avião | Quantidade de minutos |"
   ]
  },
  {
   "cell_type": "markdown",
   "metadata": {},
   "source": [
    "----\n",
    "## Bibliotecas e leitura dos dados"
   ]
  },
  {
   "cell_type": "code",
   "execution_count": 1,
   "metadata": {},
   "outputs": [],
   "source": [
    "# Importando bibliotecas\n",
    "import pandas as pd\n",
    "import numpy as np\n",
    "import matplotlib.pyplot as plt\n",
    "import seaborn as sns\n",
    "from math import *"
   ]
  },
  {
   "cell_type": "code",
   "execution_count": 2,
   "metadata": {},
   "outputs": [],
   "source": [
    "# Leitura do dataset\n",
    "dados = pd.read_csv('US_flights_2023.csv')"
   ]
  },
  {
   "cell_type": "markdown",
   "metadata": {},
   "source": [
    "----\n",
    "## Limpeza e pré-processamento de dados\n",
    "\n",
    "Nesta seção, será feita a limpeza da base dados, contemplando somente as informações julgadas relevantes dado o objetivo do projeto."
   ]
  },
  {
   "cell_type": "code",
   "execution_count": 3,
   "metadata": {},
   "outputs": [
    {
     "data": {
      "text/plain": [
       "(Index(['FlightDate', 'Day_Of_Week', 'Airline', 'Tail_Number', 'Dep_Airport',\n",
       "        'Dep_CityName', 'DepTime_label', 'Dep_Delay', 'Dep_Delay_Tag',\n",
       "        'Dep_Delay_Type', 'Arr_Airport', 'Arr_CityName', 'Arr_Delay',\n",
       "        'Arr_Delay_Type', 'Flight_Duration', 'Distance_type', 'Delay_Carrier',\n",
       "        'Delay_Weather', 'Delay_NAS', 'Delay_Security', 'Delay_LastAircraft',\n",
       "        'Manufacturer', 'Model', 'Aicraft_age'],\n",
       "       dtype='object'),\n",
       " (332935, 24),\n",
       " FlightDate            object\n",
       " Day_Of_Week            int64\n",
       " Airline               object\n",
       " Tail_Number           object\n",
       " Dep_Airport           object\n",
       " Dep_CityName          object\n",
       " DepTime_label         object\n",
       " Dep_Delay              int64\n",
       " Dep_Delay_Tag          int64\n",
       " Dep_Delay_Type        object\n",
       " Arr_Airport           object\n",
       " Arr_CityName          object\n",
       " Arr_Delay              int64\n",
       " Arr_Delay_Type        object\n",
       " Flight_Duration        int64\n",
       " Distance_type         object\n",
       " Delay_Carrier          int64\n",
       " Delay_Weather          int64\n",
       " Delay_NAS              int64\n",
       " Delay_Security         int64\n",
       " Delay_LastAircraft     int64\n",
       " Manufacturer          object\n",
       " Model                 object\n",
       " Aicraft_age            int64\n",
       " dtype: object)"
      ]
     },
     "execution_count": 3,
     "metadata": {},
     "output_type": "execute_result"
    }
   ],
   "source": [
    "# Obtendo os dados do aerorpot de Atlanta (ATL)\n",
    "dados = dados.loc[dados.Dep_Airport == 'ATL', :]\n",
    "\n",
    "# Verificando os dados\n",
    "dados.columns, dados.shape, dados.dtypes"
   ]
  },
  {
   "cell_type": "code",
   "execution_count": 4,
   "metadata": {},
   "outputs": [],
   "source": [
    "# Descartando colunas que não serão utilizadas\n",
    "columns_to_drop = ['Tail_Number', 'Dep_CityName', 'Arr_CityName', 'Flight_Duration', 'Manufacturer', 'Model', 'Aicraft_age', 'Dep_Airport']\n",
    "\n",
    "for column in columns_to_drop:\n",
    "    dados = dados.drop(column, axis=1)"
   ]
  },
  {
   "cell_type": "code",
   "execution_count": 5,
   "metadata": {},
   "outputs": [
    {
     "data": {
      "text/html": [
       "<div>\n",
       "<style scoped>\n",
       "    .dataframe tbody tr th:only-of-type {\n",
       "        vertical-align: middle;\n",
       "    }\n",
       "\n",
       "    .dataframe tbody tr th {\n",
       "        vertical-align: top;\n",
       "    }\n",
       "\n",
       "    .dataframe thead th {\n",
       "        text-align: right;\n",
       "    }\n",
       "</style>\n",
       "<table border=\"1\" class=\"dataframe\">\n",
       "  <thead>\n",
       "    <tr style=\"text-align: right;\">\n",
       "      <th></th>\n",
       "      <th>Month</th>\n",
       "      <th>Day_Of_Week</th>\n",
       "      <th>Airline</th>\n",
       "      <th>DepTime_label</th>\n",
       "      <th>Dep_Delay</th>\n",
       "      <th>Dep_Delay_Tag</th>\n",
       "      <th>Dep_Delay_Type</th>\n",
       "      <th>Arr_Airport</th>\n",
       "      <th>Arr_Delay</th>\n",
       "      <th>Arr_Delay_Type</th>\n",
       "      <th>Distance_type</th>\n",
       "      <th>Delay_Carrier</th>\n",
       "      <th>Delay_Weather</th>\n",
       "      <th>Delay_NAS</th>\n",
       "      <th>Delay_Security</th>\n",
       "      <th>Delay_LastAircraft</th>\n",
       "    </tr>\n",
       "  </thead>\n",
       "  <tbody>\n",
       "    <tr>\n",
       "      <th>31</th>\n",
       "      <td>1</td>\n",
       "      <td>1</td>\n",
       "      <td>Endeavor Air</td>\n",
       "      <td>Afternoon</td>\n",
       "      <td>-3</td>\n",
       "      <td>0</td>\n",
       "      <td>0</td>\n",
       "      <td>FAY</td>\n",
       "      <td>-12</td>\n",
       "      <td>0</td>\n",
       "      <td>0</td>\n",
       "      <td>0</td>\n",
       "      <td>0</td>\n",
       "      <td>0</td>\n",
       "      <td>0</td>\n",
       "      <td>0</td>\n",
       "    </tr>\n",
       "    <tr>\n",
       "      <th>32</th>\n",
       "      <td>1</td>\n",
       "      <td>2</td>\n",
       "      <td>Endeavor Air</td>\n",
       "      <td>Afternoon</td>\n",
       "      <td>-5</td>\n",
       "      <td>0</td>\n",
       "      <td>0</td>\n",
       "      <td>FAY</td>\n",
       "      <td>-12</td>\n",
       "      <td>0</td>\n",
       "      <td>0</td>\n",
       "      <td>0</td>\n",
       "      <td>0</td>\n",
       "      <td>0</td>\n",
       "      <td>0</td>\n",
       "      <td>0</td>\n",
       "    </tr>\n",
       "    <tr>\n",
       "      <th>33</th>\n",
       "      <td>1</td>\n",
       "      <td>3</td>\n",
       "      <td>Endeavor Air</td>\n",
       "      <td>Afternoon</td>\n",
       "      <td>-2</td>\n",
       "      <td>0</td>\n",
       "      <td>0</td>\n",
       "      <td>FAY</td>\n",
       "      <td>-7</td>\n",
       "      <td>0</td>\n",
       "      <td>0</td>\n",
       "      <td>0</td>\n",
       "      <td>0</td>\n",
       "      <td>0</td>\n",
       "      <td>0</td>\n",
       "      <td>0</td>\n",
       "    </tr>\n",
       "    <tr>\n",
       "      <th>34</th>\n",
       "      <td>1</td>\n",
       "      <td>4</td>\n",
       "      <td>Endeavor Air</td>\n",
       "      <td>Afternoon</td>\n",
       "      <td>16</td>\n",
       "      <td>1</td>\n",
       "      <td>1</td>\n",
       "      <td>FAY</td>\n",
       "      <td>11</td>\n",
       "      <td>0</td>\n",
       "      <td>0</td>\n",
       "      <td>0</td>\n",
       "      <td>0</td>\n",
       "      <td>0</td>\n",
       "      <td>0</td>\n",
       "      <td>0</td>\n",
       "    </tr>\n",
       "    <tr>\n",
       "      <th>35</th>\n",
       "      <td>1</td>\n",
       "      <td>5</td>\n",
       "      <td>Endeavor Air</td>\n",
       "      <td>Afternoon</td>\n",
       "      <td>-3</td>\n",
       "      <td>0</td>\n",
       "      <td>0</td>\n",
       "      <td>FAY</td>\n",
       "      <td>-8</td>\n",
       "      <td>0</td>\n",
       "      <td>0</td>\n",
       "      <td>0</td>\n",
       "      <td>0</td>\n",
       "      <td>0</td>\n",
       "      <td>0</td>\n",
       "      <td>0</td>\n",
       "    </tr>\n",
       "  </tbody>\n",
       "</table>\n",
       "</div>"
      ],
      "text/plain": [
       "    Month Day_Of_Week       Airline DepTime_label  Dep_Delay Dep_Delay_Tag  \\\n",
       "31      1           1  Endeavor Air     Afternoon         -3             0   \n",
       "32      1           2  Endeavor Air     Afternoon         -5             0   \n",
       "33      1           3  Endeavor Air     Afternoon         -2             0   \n",
       "34      1           4  Endeavor Air     Afternoon         16             1   \n",
       "35      1           5  Endeavor Air     Afternoon         -3             0   \n",
       "\n",
       "   Dep_Delay_Type Arr_Airport  Arr_Delay Arr_Delay_Type Distance_type  \\\n",
       "31              0         FAY        -12              0             0   \n",
       "32              0         FAY        -12              0             0   \n",
       "33              0         FAY         -7              0             0   \n",
       "34              1         FAY         11              0             0   \n",
       "35              0         FAY         -8              0             0   \n",
       "\n",
       "    Delay_Carrier  Delay_Weather  Delay_NAS  Delay_Security  \\\n",
       "31              0              0          0               0   \n",
       "32              0              0          0               0   \n",
       "33              0              0          0               0   \n",
       "34              0              0          0               0   \n",
       "35              0              0          0               0   \n",
       "\n",
       "    Delay_LastAircraft  \n",
       "31                   0  \n",
       "32                   0  \n",
       "33                   0  \n",
       "34                   0  \n",
       "35                   0  "
      ]
     },
     "metadata": {},
     "output_type": "display_data"
    },
    {
     "data": {
      "text/plain": [
       "Index(['Month', 'Day_Of_Week', 'Airline', 'DepTime_label', 'Dep_Delay',\n",
       "       'Dep_Delay_Tag', 'Dep_Delay_Type', 'Arr_Airport', 'Arr_Delay',\n",
       "       'Arr_Delay_Type', 'Distance_type', 'Delay_Carrier', 'Delay_Weather',\n",
       "       'Delay_NAS', 'Delay_Security', 'Delay_LastAircraft'],\n",
       "      dtype='object')"
      ]
     },
     "metadata": {},
     "output_type": "display_data"
    },
    {
     "data": {
      "text/plain": [
       "(332935, 16)"
      ]
     },
     "metadata": {},
     "output_type": "display_data"
    }
   ],
   "source": [
    "# Adaptando as colunas para o tipo correto\n",
    "dados.Day_Of_Week = dados.Day_Of_Week.astype('category')\n",
    "dados.Dep_Delay_Tag = dados.Dep_Delay_Tag.astype('category')\n",
    "\n",
    "# Substituindo os valores categóricos por valores numéricos\n",
    "dados.Dep_Delay_Type = dados.Dep_Delay_Type.astype('category') # Tipo do atraso na partida\n",
    "dados['Dep_Delay_Type'] = dados['Dep_Delay_Type'].cat.rename_categories({'Low <5min': '0', 'Medium >15min': '1', 'Hight >60min': '2'})\n",
    "\n",
    "dados.Arr_Delay_Type = dados.Arr_Delay_Type.astype('category') # Tipo do atraso na chegada\n",
    "dados['Arr_Delay_Type'] = dados['Arr_Delay_Type'].cat.rename_categories({'Low <5min': '0', 'Medium >15min': '1', 'Hight >60min': '2'})\n",
    "\n",
    "dados.Distance_type = dados.Distance_type.astype('category') # Tipo da distância\n",
    "dados['Distance_type'] = dados['Distance_type'].cat.rename_categories({'Short Haul >1500Mi': '0', 'Medium Haul <3000Mi': '1', 'Long Haul <6000Mi': '2'})\n",
    "\n",
    "# Substituindo a data do voo pelo mês\n",
    "dados['FlightDate'] = pd.to_datetime(dados['FlightDate']).dt.month\n",
    "dados.rename(columns={'FlightDate': 'Month'}, inplace=True)\n",
    "\n",
    "# Verificando os dados\n",
    "display(dados.head(5))\n",
    "display(dados.columns)\n",
    "display(dados.shape)"
   ]
  },
  {
   "cell_type": "markdown",
   "metadata": {},
   "source": [
    "----\n",
    "## Análise exploratória dos dados"
   ]
  },
  {
   "cell_type": "code",
   "execution_count": 6,
   "metadata": {},
   "outputs": [
    {
     "data": {
      "text/plain": [
       "Month                    int32\n",
       "Day_Of_Week           category\n",
       "Airline                 object\n",
       "DepTime_label           object\n",
       "Dep_Delay                int64\n",
       "Dep_Delay_Tag         category\n",
       "Dep_Delay_Type        category\n",
       "Arr_Airport             object\n",
       "Arr_Delay                int64\n",
       "Arr_Delay_Type        category\n",
       "Distance_type         category\n",
       "Delay_Carrier            int64\n",
       "Delay_Weather            int64\n",
       "Delay_NAS                int64\n",
       "Delay_Security           int64\n",
       "Delay_LastAircraft       int64\n",
       "dtype: object"
      ]
     },
     "execution_count": 6,
     "metadata": {},
     "output_type": "execute_result"
    }
   ],
   "source": [
    "dados.dtypes"
   ]
  },
  {
   "cell_type": "code",
   "execution_count": 7,
   "metadata": {},
   "outputs": [],
   "source": [
    "contagem = {}\n",
    "for column in dados.columns:\n",
    "    if dados[column].dtype.name != 'int64':\n",
    "        contagem[column] = dados[column].value_counts(True)"
   ]
  },
  {
   "cell_type": "code",
   "execution_count": 8,
   "metadata": {},
   "outputs": [
    {
     "data": {
      "text/plain": [
       "0.31595476650356746"
      ]
     },
     "execution_count": 8,
     "metadata": {},
     "output_type": "execute_result"
    }
   ],
   "source": [
    "dep_delay = dados['Dep_Delay']\n",
    "arr_delay = dados['Arr_Delay']\n",
    "total_delay = dep_delay + arr_delay\n",
    "\n",
    "\n",
    "delay_carrier = dados['Delay_Carrier']\n",
    "delay_weather = dados['Delay_Weather']\n",
    "delay_nas = dados['Delay_NAS']\n",
    "delay_security = dados['Delay_Security']\n",
    "delay_late_aircraft = dados['Delay_LastAircraft']\n",
    "\n",
    "total_delay.corr(delay_weather)"
   ]
  },
  {
   "cell_type": "markdown",
   "metadata": {},
   "source": [
    "----\n",
    "## Bibliografia"
   ]
  },
  {
   "cell_type": "markdown",
   "metadata": {},
   "source": [
    "- Fonte do dataset: https://www.kaggle.com/datasets/bordanova/2023-us-civil-flights-delay-meteo-and-aircraft (dados fornecidos pelo Bureau of Transportation Statistics)"
   ]
  }
 ],
 "metadata": {
  "kernelspec": {
   "display_name": "Python 3 (ipykernel)",
   "language": "python",
   "name": "python3"
  },
  "language_info": {
   "codemirror_mode": {
    "name": "ipython",
    "version": 3
   },
   "file_extension": ".py",
   "mimetype": "text/x-python",
   "name": "python",
   "nbconvert_exporter": "python",
   "pygments_lexer": "ipython3",
   "version": "3.12.2"
  }
 },
 "nbformat": 4,
 "nbformat_minor": 2
}
